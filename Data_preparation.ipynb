{
 "cells": [
  {
   "cell_type": "code",
   "execution_count": 84,
   "metadata": {},
   "outputs": [],
   "source": [
    "import pandas as pd"
   ]
  },
  {
   "cell_type": "code",
   "execution_count": 85,
   "metadata": {},
   "outputs": [],
   "source": [
    "data=pd.read_csv(\"/Users/lamazere/Desktop/ambient_polution_death_rate_tableau.csv\",sep=\";\")"
   ]
  },
  {
   "cell_type": "code",
   "execution_count": 86,
   "metadata": {},
   "outputs": [],
   "source": [
    "data2=pd.read_csv(\"/Users/lamazere/Desktop/PM25-air-pollution.csv\", sep=\";\")"
   ]
  },
  {
   "cell_type": "code",
   "execution_count": 87,
   "metadata": {},
   "outputs": [
    {
     "data": {
      "text/html": [
       "<div>\n",
       "<style scoped>\n",
       "    .dataframe tbody tr th:only-of-type {\n",
       "        vertical-align: middle;\n",
       "    }\n",
       "\n",
       "    .dataframe tbody tr th {\n",
       "        vertical-align: top;\n",
       "    }\n",
       "\n",
       "    .dataframe thead th {\n",
       "        text-align: right;\n",
       "    }\n",
       "</style>\n",
       "<table border=\"1\" class=\"dataframe\">\n",
       "  <thead>\n",
       "    <tr style=\"text-align: right;\">\n",
       "      <th></th>\n",
       "      <th>Entity</th>\n",
       "      <th>Ambient air pollution death rates in 2016 (deaths per 100,000)</th>\n",
       "      <th>Ambient air pollution death rates in 1990 (deaths per 100,000)</th>\n",
       "      <th>Total population (2015)</th>\n",
       "    </tr>\n",
       "  </thead>\n",
       "  <tbody>\n",
       "    <tr>\n",
       "      <th>0</th>\n",
       "      <td>Afghanistan</td>\n",
       "      <td>207.655492</td>\n",
       "      <td>227.815221</td>\n",
       "      <td>34499915</td>\n",
       "    </tr>\n",
       "    <tr>\n",
       "      <th>1</th>\n",
       "      <td>Albania</td>\n",
       "      <td>38.910625</td>\n",
       "      <td>55.937455</td>\n",
       "      <td>3238316</td>\n",
       "    </tr>\n",
       "    <tr>\n",
       "      <th>2</th>\n",
       "      <td>Algeria</td>\n",
       "      <td>47.733217</td>\n",
       "      <td>74.232962</td>\n",
       "      <td>36983924</td>\n",
       "    </tr>\n",
       "    <tr>\n",
       "      <th>3</th>\n",
       "      <td>American Samoa</td>\n",
       "      <td>5.921675</td>\n",
       "      <td>11.658514</td>\n",
       "      <td>71834</td>\n",
       "    </tr>\n",
       "    <tr>\n",
       "      <th>4</th>\n",
       "      <td>Andorra</td>\n",
       "      <td>14.539828</td>\n",
       "      <td>23.547584</td>\n",
       "      <td>88909</td>\n",
       "    </tr>\n",
       "  </tbody>\n",
       "</table>\n",
       "</div>"
      ],
      "text/plain": [
       "           Entity  \\\n",
       "0     Afghanistan   \n",
       "1         Albania   \n",
       "2         Algeria   \n",
       "3  American Samoa   \n",
       "4         Andorra   \n",
       "\n",
       "   Ambient air pollution death rates in 2016 (deaths per 100,000)  \\\n",
       "0                                         207.655492                \n",
       "1                                          38.910625                \n",
       "2                                          47.733217                \n",
       "3                                           5.921675                \n",
       "4                                          14.539828                \n",
       "\n",
       "   Ambient air pollution death rates in 1990 (deaths per 100,000)  \\\n",
       "0                                         227.815221                \n",
       "1                                          55.937455                \n",
       "2                                          74.232962                \n",
       "3                                          11.658514                \n",
       "4                                          23.547584                \n",
       "\n",
       "   Total population (2015)  \n",
       "0                 34499915  \n",
       "1                  3238316  \n",
       "2                 36983924  \n",
       "3                    71834  \n",
       "4                    88909  "
      ]
     },
     "execution_count": 87,
     "metadata": {},
     "output_type": "execute_result"
    }
   ],
   "source": [
    "data.head()"
   ]
  },
  {
   "cell_type": "code",
   "execution_count": 88,
   "metadata": {},
   "outputs": [],
   "source": [
    "data2=data2[[\"Entity\",\"Region\"]]"
   ]
  },
  {
   "cell_type": "code",
   "execution_count": 89,
   "metadata": {},
   "outputs": [],
   "source": [
    "data2=data2.drop_duplicates()"
   ]
  },
  {
   "cell_type": "code",
   "execution_count": 90,
   "metadata": {},
   "outputs": [
    {
     "name": "stdout",
     "output_type": "stream",
     "text": [
      "(192, 4) (228, 2)\n"
     ]
    }
   ],
   "source": [
    "print(data.shape,data2.shape)"
   ]
  },
  {
   "cell_type": "code",
   "execution_count": 91,
   "metadata": {},
   "outputs": [
    {
     "data": {
      "text/plain": [
       "(179, 5)"
      ]
     },
     "execution_count": 91,
     "metadata": {},
     "output_type": "execute_result"
    }
   ],
   "source": [
    "merged_data=pd.merge(data,data2,on=['Entity'],how=\"inner\")\n",
    "merged_data.shape"
   ]
  },
  {
   "cell_type": "code",
   "execution_count": 92,
   "metadata": {},
   "outputs": [
    {
     "data": {
      "text/html": [
       "<div>\n",
       "<style scoped>\n",
       "    .dataframe tbody tr th:only-of-type {\n",
       "        vertical-align: middle;\n",
       "    }\n",
       "\n",
       "    .dataframe tbody tr th {\n",
       "        vertical-align: top;\n",
       "    }\n",
       "\n",
       "    .dataframe thead th {\n",
       "        text-align: right;\n",
       "    }\n",
       "</style>\n",
       "<table border=\"1\" class=\"dataframe\">\n",
       "  <thead>\n",
       "    <tr style=\"text-align: right;\">\n",
       "      <th></th>\n",
       "      <th>Entity</th>\n",
       "      <th>Ambient air pollution death rates in 2016 (deaths per 100,000)</th>\n",
       "      <th>Ambient air pollution death rates in 1990 (deaths per 100,000)</th>\n",
       "      <th>Total population (2015)</th>\n",
       "      <th>Region</th>\n",
       "    </tr>\n",
       "  </thead>\n",
       "  <tbody>\n",
       "    <tr>\n",
       "      <th>0</th>\n",
       "      <td>Afghanistan</td>\n",
       "      <td>207.655492</td>\n",
       "      <td>227.815221</td>\n",
       "      <td>34499915</td>\n",
       "      <td>Asia</td>\n",
       "    </tr>\n",
       "    <tr>\n",
       "      <th>1</th>\n",
       "      <td>Albania</td>\n",
       "      <td>38.910625</td>\n",
       "      <td>55.937455</td>\n",
       "      <td>3238316</td>\n",
       "      <td>Europe</td>\n",
       "    </tr>\n",
       "    <tr>\n",
       "      <th>2</th>\n",
       "      <td>Algeria</td>\n",
       "      <td>47.733217</td>\n",
       "      <td>74.232962</td>\n",
       "      <td>36983924</td>\n",
       "      <td>Africa</td>\n",
       "    </tr>\n",
       "    <tr>\n",
       "      <th>3</th>\n",
       "      <td>American Samoa</td>\n",
       "      <td>5.921675</td>\n",
       "      <td>11.658514</td>\n",
       "      <td>71834</td>\n",
       "      <td>North America</td>\n",
       "    </tr>\n",
       "    <tr>\n",
       "      <th>4</th>\n",
       "      <td>Andorra</td>\n",
       "      <td>14.539828</td>\n",
       "      <td>23.547584</td>\n",
       "      <td>88909</td>\n",
       "      <td>Europe</td>\n",
       "    </tr>\n",
       "  </tbody>\n",
       "</table>\n",
       "</div>"
      ],
      "text/plain": [
       "           Entity  \\\n",
       "0     Afghanistan   \n",
       "1         Albania   \n",
       "2         Algeria   \n",
       "3  American Samoa   \n",
       "4         Andorra   \n",
       "\n",
       "   Ambient air pollution death rates in 2016 (deaths per 100,000)  \\\n",
       "0                                         207.655492                \n",
       "1                                          38.910625                \n",
       "2                                          47.733217                \n",
       "3                                           5.921675                \n",
       "4                                          14.539828                \n",
       "\n",
       "   Ambient air pollution death rates in 1990 (deaths per 100,000)  \\\n",
       "0                                         227.815221                \n",
       "1                                          55.937455                \n",
       "2                                          74.232962                \n",
       "3                                          11.658514                \n",
       "4                                          23.547584                \n",
       "\n",
       "   Total population (2015)         Region  \n",
       "0                 34499915           Asia  \n",
       "1                  3238316         Europe  \n",
       "2                 36983924         Africa  \n",
       "3                    71834  North America  \n",
       "4                    88909         Europe  "
      ]
     },
     "execution_count": 92,
     "metadata": {},
     "output_type": "execute_result"
    }
   ],
   "source": [
    "merged_data.head()"
   ]
  },
  {
   "cell_type": "code",
   "execution_count": 93,
   "metadata": {},
   "outputs": [],
   "source": [
    "merged_data.to_csv(\"Ambient_air_pollution_death_rates_pop2015.csv\",index=False)"
   ]
  },
  {
   "cell_type": "code",
   "execution_count": null,
   "metadata": {},
   "outputs": [],
   "source": []
  }
 ],
 "metadata": {
  "kernelspec": {
   "display_name": "Python 3",
   "language": "python",
   "name": "python3"
  },
  "language_info": {
   "codemirror_mode": {
    "name": "ipython",
    "version": 3
   },
   "file_extension": ".py",
   "mimetype": "text/x-python",
   "name": "python",
   "nbconvert_exporter": "python",
   "pygments_lexer": "ipython3",
   "version": "3.6.8"
  }
 },
 "nbformat": 4,
 "nbformat_minor": 2
}
